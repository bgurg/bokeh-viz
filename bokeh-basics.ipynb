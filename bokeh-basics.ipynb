{
 "cells": [
  {
   "cell_type": "markdown",
   "metadata": {},
   "source": [
    "## misc bokeh notes\n",
    "\n",
    "**Documentation**\n",
    "- Documentation and sample code for various charts at: https://bokeh.pydata.org/\n",
    "        \n",
    "**Time series data**\n",
    "- *df = pandas.read_csv('fname.csv', **parse_dates=['name']**)* to specify column name containing datetime data when loading dataframe\n",
    "- *f = figure(**x_axis_type='datetime'**)* to specify that axis contains datetime data when creating figure\n"
   ]
  },
  {
   "cell_type": "markdown",
   "metadata": {},
   "source": [
    "## misc pandas notes\n",
    "\n",
    "**Tips to help size up new data:**\n",
    "- *df = pandas.load_csv('fname.csv')* to load data into dataframe\n",
    "- *df.ftypes* to list column names, data types, and whether columns lightly/densely populated\n",
    "- *len(df)* to get total number of rows of data (not including column names)\n",
    "- *df.head(n)* to see values in first n rows\n",
    "- *df.tail(n)* to see values in last n rows (includes row index...so also shows number of rows)\n",
    "\n",
    "**getting columns of data:**\n",
    "- *df['name']* using column name\n",
    "- *df.iloc[:,index]* using column index\n",
    "\n",
    "**operate on columns rather than rows & values:**\n",
    "- e.g. if *x is df['x']* and *y is df['y']*, then *z = zip(x,y)* will zip values of x & y for all rows in dataframe "
   ]
  },
  {
   "cell_type": "markdown",
   "metadata": {},
   "source": [
    "## line chart with .csv data"
   ]
  },
  {
   "cell_type": "code",
   "execution_count": 1,
   "metadata": {},
   "outputs": [
    {
     "data": {
      "text/plain": [
       "Year                             datetime64[ns]:dense\n",
       "Agriculture                             float64:dense\n",
       "Architecture                            float64:dense\n",
       "Art and Performance                     float64:dense\n",
       "Biology                                 float64:dense\n",
       "Business                                float64:dense\n",
       "Communications and Journalism           float64:dense\n",
       "Computer Science                        float64:dense\n",
       "Education                               float64:dense\n",
       "Engineering                             float64:dense\n",
       "English                                 float64:dense\n",
       "Foreign Languages                       float64:dense\n",
       "Health Professions                      float64:dense\n",
       "Math and Statistics                     float64:dense\n",
       "Physical Sciences                       float64:dense\n",
       "Psychology                              float64:dense\n",
       "Public Administration                   float64:dense\n",
       "Social Sciences and History             float64:dense\n",
       "dtype: object"
      ]
     },
     "execution_count": 1,
     "metadata": {},
     "output_type": "execute_result"
    }
   ],
   "source": [
    "from bokeh.plotting import figure\n",
    "from bokeh.io import output_file, show\n",
    "import pandas\n",
    "\n",
    "df_bach = pandas.read_csv('bachelors.csv', parse_dates=['Year'])\n",
    "df_bach.ftypes\n"
   ]
  },
  {
   "cell_type": "code",
   "execution_count": 180,
   "metadata": {},
   "outputs": [
    {
     "data": {
      "text/plain": [
       "42"
      ]
     },
     "execution_count": 180,
     "metadata": {},
     "output_type": "execute_result"
    }
   ],
   "source": [
    "len(df_bach)\n"
   ]
  },
  {
   "cell_type": "code",
   "execution_count": 181,
   "metadata": {},
   "outputs": [
    {
     "data": {
      "text/html": [
       "<div>\n",
       "<style scoped>\n",
       "    .dataframe tbody tr th:only-of-type {\n",
       "        vertical-align: middle;\n",
       "    }\n",
       "\n",
       "    .dataframe tbody tr th {\n",
       "        vertical-align: top;\n",
       "    }\n",
       "\n",
       "    .dataframe thead th {\n",
       "        text-align: right;\n",
       "    }\n",
       "</style>\n",
       "<table border=\"1\" class=\"dataframe\">\n",
       "  <thead>\n",
       "    <tr style=\"text-align: right;\">\n",
       "      <th></th>\n",
       "      <th>Year</th>\n",
       "      <th>Agriculture</th>\n",
       "      <th>Architecture</th>\n",
       "      <th>Art and Performance</th>\n",
       "      <th>Biology</th>\n",
       "      <th>Business</th>\n",
       "      <th>Communications and Journalism</th>\n",
       "      <th>Computer Science</th>\n",
       "      <th>Education</th>\n",
       "      <th>Engineering</th>\n",
       "      <th>English</th>\n",
       "      <th>Foreign Languages</th>\n",
       "      <th>Health Professions</th>\n",
       "      <th>Math and Statistics</th>\n",
       "      <th>Physical Sciences</th>\n",
       "      <th>Psychology</th>\n",
       "      <th>Public Administration</th>\n",
       "      <th>Social Sciences and History</th>\n",
       "    </tr>\n",
       "  </thead>\n",
       "  <tbody>\n",
       "    <tr>\n",
       "      <th>0</th>\n",
       "      <td>1970-01-01</td>\n",
       "      <td>4.229798</td>\n",
       "      <td>11.921005</td>\n",
       "      <td>59.7</td>\n",
       "      <td>29.088363</td>\n",
       "      <td>9.064439</td>\n",
       "      <td>35.3</td>\n",
       "      <td>13.6</td>\n",
       "      <td>74.535328</td>\n",
       "      <td>0.8</td>\n",
       "      <td>65.570923</td>\n",
       "      <td>73.8</td>\n",
       "      <td>77.1</td>\n",
       "      <td>38.0</td>\n",
       "      <td>13.8</td>\n",
       "      <td>44.4</td>\n",
       "      <td>68.4</td>\n",
       "      <td>36.8</td>\n",
       "    </tr>\n",
       "    <tr>\n",
       "      <th>1</th>\n",
       "      <td>1971-01-01</td>\n",
       "      <td>5.452797</td>\n",
       "      <td>12.003106</td>\n",
       "      <td>59.9</td>\n",
       "      <td>29.394403</td>\n",
       "      <td>9.503187</td>\n",
       "      <td>35.5</td>\n",
       "      <td>13.6</td>\n",
       "      <td>74.149204</td>\n",
       "      <td>1.0</td>\n",
       "      <td>64.556485</td>\n",
       "      <td>73.9</td>\n",
       "      <td>75.5</td>\n",
       "      <td>39.0</td>\n",
       "      <td>14.9</td>\n",
       "      <td>46.2</td>\n",
       "      <td>65.5</td>\n",
       "      <td>36.2</td>\n",
       "    </tr>\n",
       "    <tr>\n",
       "      <th>2</th>\n",
       "      <td>1972-01-01</td>\n",
       "      <td>7.420710</td>\n",
       "      <td>13.214594</td>\n",
       "      <td>60.4</td>\n",
       "      <td>29.810221</td>\n",
       "      <td>10.558962</td>\n",
       "      <td>36.6</td>\n",
       "      <td>14.9</td>\n",
       "      <td>73.554520</td>\n",
       "      <td>1.2</td>\n",
       "      <td>63.664263</td>\n",
       "      <td>74.6</td>\n",
       "      <td>76.9</td>\n",
       "      <td>40.2</td>\n",
       "      <td>14.8</td>\n",
       "      <td>47.6</td>\n",
       "      <td>62.6</td>\n",
       "      <td>36.1</td>\n",
       "    </tr>\n",
       "  </tbody>\n",
       "</table>\n",
       "</div>"
      ],
      "text/plain": [
       "        Year  Agriculture  Architecture  Art and Performance    Biology  \\\n",
       "0 1970-01-01     4.229798     11.921005                 59.7  29.088363   \n",
       "1 1971-01-01     5.452797     12.003106                 59.9  29.394403   \n",
       "2 1972-01-01     7.420710     13.214594                 60.4  29.810221   \n",
       "\n",
       "    Business  Communications and Journalism  Computer Science  Education  \\\n",
       "0   9.064439                           35.3              13.6  74.535328   \n",
       "1   9.503187                           35.5              13.6  74.149204   \n",
       "2  10.558962                           36.6              14.9  73.554520   \n",
       "\n",
       "   Engineering    English  Foreign Languages  Health Professions  \\\n",
       "0          0.8  65.570923               73.8                77.1   \n",
       "1          1.0  64.556485               73.9                75.5   \n",
       "2          1.2  63.664263               74.6                76.9   \n",
       "\n",
       "   Math and Statistics  Physical Sciences  Psychology  Public Administration  \\\n",
       "0                 38.0               13.8        44.4                   68.4   \n",
       "1                 39.0               14.9        46.2                   65.5   \n",
       "2                 40.2               14.8        47.6                   62.6   \n",
       "\n",
       "   Social Sciences and History  \n",
       "0                         36.8  \n",
       "1                         36.2  \n",
       "2                         36.1  "
      ]
     },
     "execution_count": 181,
     "metadata": {},
     "output_type": "execute_result"
    }
   ],
   "source": [
    "df_bach.head(3)\n"
   ]
  },
  {
   "cell_type": "code",
   "execution_count": 2,
   "metadata": {},
   "outputs": [],
   "source": [
    "f = figure(width=1000, x_axis_type=\"datetime\", x_axis_label='Year', #sizing_mode=\"scale_width\",\n",
    "           height=500, y_axis_label='Engineering Degrees',\n",
    "           title = 'Engineering Degree Over Time')\n",
    "\n",
    "f.line('Year', 'Engineering', source=df_bach)\n",
    "\n",
    "output_file(\"line.html\")\n",
    "show(f)\n"
   ]
  },
  {
   "cell_type": "markdown",
   "metadata": {},
   "source": [
    "## scatter plot with .xlsx data"
   ]
  },
  {
   "cell_type": "code",
   "execution_count": 3,
   "metadata": {},
   "outputs": [
    {
     "data": {
      "text/plain": [
       "Year           int64:dense\n",
       "Month          int64:dense\n",
       "Day            int64:dense\n",
       "Hour           int64:dense\n",
       "Temperature    int64:dense\n",
       "Pressure       int64:dense\n",
       "dtype: object"
      ]
     },
     "execution_count": 3,
     "metadata": {},
     "output_type": "execute_result"
    }
   ],
   "source": [
    "from bokeh.plotting import figure\n",
    "from bokeh.io import output_file, show\n",
    "import pandas\n",
    "\n",
    "df_xlsx = pandas.read_excel('verlegenhuken.xlsx')\n",
    "df_xlsx.ftypes\n"
   ]
  },
  {
   "cell_type": "code",
   "execution_count": 4,
   "metadata": {},
   "outputs": [
    {
     "data": {
      "text/plain": [
       "33102"
      ]
     },
     "execution_count": 4,
     "metadata": {},
     "output_type": "execute_result"
    }
   ],
   "source": [
    "len(df_xlsx)"
   ]
  },
  {
   "cell_type": "code",
   "execution_count": 5,
   "metadata": {},
   "outputs": [
    {
     "data": {
      "text/html": [
       "<div>\n",
       "<style scoped>\n",
       "    .dataframe tbody tr th:only-of-type {\n",
       "        vertical-align: middle;\n",
       "    }\n",
       "\n",
       "    .dataframe tbody tr th {\n",
       "        vertical-align: top;\n",
       "    }\n",
       "\n",
       "    .dataframe thead th {\n",
       "        text-align: right;\n",
       "    }\n",
       "</style>\n",
       "<table border=\"1\" class=\"dataframe\">\n",
       "  <thead>\n",
       "    <tr style=\"text-align: right;\">\n",
       "      <th></th>\n",
       "      <th>Year</th>\n",
       "      <th>Month</th>\n",
       "      <th>Day</th>\n",
       "      <th>Hour</th>\n",
       "      <th>Temperature</th>\n",
       "      <th>Pressure</th>\n",
       "    </tr>\n",
       "  </thead>\n",
       "  <tbody>\n",
       "    <tr>\n",
       "      <th>0</th>\n",
       "      <td>2010</td>\n",
       "      <td>10</td>\n",
       "      <td>6</td>\n",
       "      <td>3</td>\n",
       "      <td>-30</td>\n",
       "      <td>9984</td>\n",
       "    </tr>\n",
       "    <tr>\n",
       "      <th>1</th>\n",
       "      <td>2010</td>\n",
       "      <td>10</td>\n",
       "      <td>6</td>\n",
       "      <td>9</td>\n",
       "      <td>-28</td>\n",
       "      <td>9992</td>\n",
       "    </tr>\n",
       "    <tr>\n",
       "      <th>2</th>\n",
       "      <td>2010</td>\n",
       "      <td>10</td>\n",
       "      <td>6</td>\n",
       "      <td>10</td>\n",
       "      <td>-24</td>\n",
       "      <td>9987</td>\n",
       "    </tr>\n",
       "  </tbody>\n",
       "</table>\n",
       "</div>"
      ],
      "text/plain": [
       "   Year  Month  Day  Hour  Temperature  Pressure\n",
       "0  2010     10    6     3          -30      9984\n",
       "1  2010     10    6     9          -28      9992\n",
       "2  2010     10    6    10          -24      9987"
      ]
     },
     "execution_count": 5,
     "metadata": {},
     "output_type": "execute_result"
    }
   ],
   "source": [
    "df_xlsx.head(3)\n"
   ]
  },
  {
   "cell_type": "code",
   "execution_count": 6,
   "metadata": {},
   "outputs": [],
   "source": [
    "f = figure(width=1000, x_axis_label='Temperature (C)', #sizing_mode=\"scale_width\",\n",
    "           height=500, y_axis_label='Pressure (hPa)',\n",
    "           title = 'Temperature and Air Pressure')\n",
    "\n",
    "x = df_xlsx['Temperature'] / 10\n",
    "y = df_xlsx['Pressure'] / 10\n",
    "\n",
    "f.circle(x, y, size=1)\n",
    "\n",
    "output_file(\"scatter.html\")\n",
    "show(f)\n"
   ]
  },
  {
   "cell_type": "markdown",
   "metadata": {},
   "source": [
    "## time series QCOM stock data (.csv from Yahoo Finance)\n"
   ]
  },
  {
   "cell_type": "code",
   "execution_count": 25,
   "metadata": {},
   "outputs": [
    {
     "data": {
      "text/plain": [
       "Date         datetime64[ns]:dense\n",
       "Open                float64:dense\n",
       "High                float64:dense\n",
       "Low                 float64:dense\n",
       "Close               float64:dense\n",
       "Adj Close           float64:dense\n",
       "Volume                int64:dense\n",
       "dtype: object"
      ]
     },
     "execution_count": 25,
     "metadata": {},
     "output_type": "execute_result"
    }
   ],
   "source": [
    "from bokeh.io import output_file, show\n",
    "from bokeh.plotting import figure\n",
    "from bokeh.models import ColumnDataSource, HoverTool\n",
    "\n",
    "import pandas\n",
    "\n",
    "df_qcom = pandas.read_csv('qcom.csv', parse_dates=['Date'])\n",
    "df_qcom.ftypes\n"
   ]
  },
  {
   "cell_type": "code",
   "execution_count": 26,
   "metadata": {},
   "outputs": [
    {
     "data": {
      "text/plain": [
       "1259"
      ]
     },
     "execution_count": 26,
     "metadata": {},
     "output_type": "execute_result"
    }
   ],
   "source": [
    "len(df_qcom)"
   ]
  },
  {
   "cell_type": "code",
   "execution_count": 27,
   "metadata": {},
   "outputs": [
    {
     "data": {
      "text/html": [
       "<div>\n",
       "<style scoped>\n",
       "    .dataframe tbody tr th:only-of-type {\n",
       "        vertical-align: middle;\n",
       "    }\n",
       "\n",
       "    .dataframe tbody tr th {\n",
       "        vertical-align: top;\n",
       "    }\n",
       "\n",
       "    .dataframe thead th {\n",
       "        text-align: right;\n",
       "    }\n",
       "</style>\n",
       "<table border=\"1\" class=\"dataframe\">\n",
       "  <thead>\n",
       "    <tr style=\"text-align: right;\">\n",
       "      <th></th>\n",
       "      <th>Date</th>\n",
       "      <th>Open</th>\n",
       "      <th>High</th>\n",
       "      <th>Low</th>\n",
       "      <th>Close</th>\n",
       "      <th>Adj Close</th>\n",
       "      <th>Volume</th>\n",
       "    </tr>\n",
       "  </thead>\n",
       "  <tbody>\n",
       "    <tr>\n",
       "      <th>0</th>\n",
       "      <td>2014-02-18</td>\n",
       "      <td>76.250000</td>\n",
       "      <td>76.250000</td>\n",
       "      <td>75.529999</td>\n",
       "      <td>75.599998</td>\n",
       "      <td>63.435242</td>\n",
       "      <td>8850100</td>\n",
       "    </tr>\n",
       "    <tr>\n",
       "      <th>1</th>\n",
       "      <td>2014-02-19</td>\n",
       "      <td>75.370003</td>\n",
       "      <td>75.989998</td>\n",
       "      <td>75.110001</td>\n",
       "      <td>75.769997</td>\n",
       "      <td>63.577892</td>\n",
       "      <td>8527600</td>\n",
       "    </tr>\n",
       "    <tr>\n",
       "      <th>2</th>\n",
       "      <td>2014-02-20</td>\n",
       "      <td>75.959999</td>\n",
       "      <td>76.199997</td>\n",
       "      <td>75.680000</td>\n",
       "      <td>75.949997</td>\n",
       "      <td>63.728931</td>\n",
       "      <td>7194200</td>\n",
       "    </tr>\n",
       "  </tbody>\n",
       "</table>\n",
       "</div>"
      ],
      "text/plain": [
       "        Date       Open       High        Low      Close  Adj Close   Volume\n",
       "0 2014-02-18  76.250000  76.250000  75.529999  75.599998  63.435242  8850100\n",
       "1 2014-02-19  75.370003  75.989998  75.110001  75.769997  63.577892  8527600\n",
       "2 2014-02-20  75.959999  76.199997  75.680000  75.949997  63.728931  7194200"
      ]
     },
     "execution_count": 27,
     "metadata": {},
     "output_type": "execute_result"
    }
   ],
   "source": [
    "df_qcom.head(3)"
   ]
  },
  {
   "cell_type": "code",
   "execution_count": 29,
   "metadata": {},
   "outputs": [
    {
     "data": {
      "text/plain": [
       "81.599998"
      ]
     },
     "execution_count": 29,
     "metadata": {},
     "output_type": "execute_result"
    }
   ],
   "source": [
    "df_qcom.max()['Close']\n"
   ]
  },
  {
   "cell_type": "code",
   "execution_count": 74,
   "metadata": {},
   "outputs": [],
   "source": [
    "#used for tooltip values\n",
    "cds = ColumnDataSource(df_qcom)\n",
    "\n",
    "f = figure(width=1200, x_axis_type=\"datetime\", x_axis_label='Date', #sizing_mode=\"scale_width\",\n",
    "           height=500, y_axis_label='Closing Price ($)',\n",
    "           title = 'QCOM Closing Price Over Time')\n",
    "\n",
    "f.line(x='Date', y='Close', line_width=1, line_color='grey', source=cds)\n",
    "f.circle(x='Date', y='Close', size=3, color='blue', source=cds)\n",
    "\n",
    "#min-max bounding lines\n",
    "f.line(x='Date', y=df_qcom.max()['Close'], line_width=1, line_color='green', source=cds)\n",
    "f.line(x='Date', y=df_qcom.min()['Close'], line_width=1, line_color='red', source=cds)\n",
    "\n",
    "#f.line(x='Date', y='RelativeVol', source=cds)\n",
    "#f.vbar(x='Date', top='RelativeVol', width=5, source=cds)\n",
    "\n",
    "#f.y_range.start = 0\n",
    "f.xaxis.major_label_orientation = 1.2\n",
    "f.xgrid.visible = False\n",
    "f.ygrid.visible = True\n",
    "\n",
    "#tooltip info\n",
    "mean_volume = int(df_qcom['Volume'].mean())\n",
    "df_qcom['RelativeVol'] = 100 - (df_qcom['Volume'] - mean_volume) / mean_volume * 100\n",
    "df_qcom['DateStr'] = df_qcom['Date'].dt.strftime('%Y-%m-%d')\n",
    "\n",
    "hoover = HoverTool(tooltips = [('Date','@DateStr'),\n",
    "                               ('Close','$@Close'),\n",
    "                               ('Range','$@Low - $@High'),\n",
    "                               ('Volume','@Volume (@RelativeVol%)')])\n",
    "f.add_tools(hoover)\n",
    "\n",
    "output_file(\"qcom.html\")\n",
    "show(f)\n"
   ]
  }
 ],
 "metadata": {
  "kernelspec": {
   "display_name": "Python 3",
   "language": "python",
   "name": "python3"
  },
  "language_info": {
   "codemirror_mode": {
    "name": "ipython",
    "version": 3
   },
   "file_extension": ".py",
   "mimetype": "text/x-python",
   "name": "python",
   "nbconvert_exporter": "python",
   "pygments_lexer": "ipython3",
   "version": "3.7.1"
  }
 },
 "nbformat": 4,
 "nbformat_minor": 2
}
